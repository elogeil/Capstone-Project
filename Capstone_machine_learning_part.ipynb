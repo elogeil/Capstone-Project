{
 "cells": [
  {
   "cell_type": "code",
   "execution_count": 1,
   "metadata": {},
   "outputs": [
    {
     "name": "stderr",
     "output_type": "stream",
     "text": [
      "c:\\python35\\lib\\site-packages\\h5py\\__init__.py:36: FutureWarning: Conversion of the second argument of issubdtype from `float` to `np.floating` is deprecated. In future, it will be treated as `np.float64 == np.dtype(float).type`.\n",
      "  from ._conv import register_converters as _register_converters\n",
      "Using TensorFlow backend.\n"
     ]
    }
   ],
   "source": [
    "import numpy as np\n",
    "import pandas as pd\n",
    "from sklearn.decomposition import PCA\n",
    "import matplotlib.pyplot as plt\n",
    "from sklearn.preprocessing import StandardScaler\n",
    "from sklearn.pipeline import make_pipeline\n",
    "from sklearn.linear_model import LogisticRegression\n",
    "from sklearn.model_selection import train_test_split as tts\n",
    "from sklearn.preprocessing import LabelEncoder\n",
    "from  sklearn.ensemble import RandomForestClassifier\n",
    "from sklearn.svm import SVC\n",
    "from sklearn.model_selection import RandomizedSearchCV\n",
    "from sklearn.model_selection import GridSearchCV\n",
    "from sklearn.cluster import KMeans\n",
    "import keras\n",
    "from keras.layers import Dense\n",
    "from keras.models import Sequential\n",
    "from keras.utils import to_categorical"
   ]
  },
  {
   "cell_type": "code",
   "execution_count": 2,
   "metadata": {},
   "outputs": [
    {
     "name": "stderr",
     "output_type": "stream",
     "text": [
      "c:\\python35\\lib\\site-packages\\IPython\\core\\interactiveshell.py:2683: DtypeWarning: Columns (26) have mixed types. Specify dtype option on import or set low_memory=False.\n",
      "  interactivity=interactivity, compiler=compiler, result=result)\n"
     ]
    }
   ],
   "source": [
    "fPath = 'Traffic_Violations.csv'\n",
    "data = pd.read_csv(fPath)"
   ]
  },
  {
   "cell_type": "code",
   "execution_count": 3,
   "metadata": {
    "collapsed": true
   },
   "outputs": [],
   "source": [
    "def lcs(X , Y):\n",
    "    # find the length of the strings\n",
    "    m = len(X)\n",
    "    n = len(Y)\n",
    " \n",
    "    # declaring the array for storing the dp values\n",
    "    L = [[None]*(n+1) for i in range(m+1)]\n",
    " \n",
    "    \"\"\"Following steps build L[m+1][n+1] in bottom up fashion\n",
    "    Note: L[i][j] contains length of LCS of X[0..i-1]\n",
    "    and Y[0..j-1]\"\"\"\n",
    "    for i in range(m+1):\n",
    "        for j in range(n+1):\n",
    "            if i == 0 or j == 0 :\n",
    "                L[i][j] = 0\n",
    "            elif X[i-1] == Y[j-1]:\n",
    "                L[i][j] = L[i-1][j-1]+1\n",
    "            else:\n",
    "                L[i][j] = max(L[i-1][j] , L[i][j-1])\n",
    " \n",
    "    # L[m][n] contains the length of LCS of X[0..n-1] & Y[0..m-1]\n",
    "    return L[m][n]\n",
    "#end of function lcs"
   ]
  },
  {
   "cell_type": "code",
   "execution_count": 4,
   "metadata": {},
   "outputs": [
    {
     "name": "stdout",
     "output_type": "stream",
     "text": [
      "['FORD' 'TOYOTA' 'HONDA' 'DODG' 'MINI COOPER' 'HYUNDAI' 'CADI' 'CHEVROLET'\n",
      " 'AUDI' 'SATURN' 'LEXUS' 'ACUR' 'GILL' 'NONE' 'MERCEDEZ' 'BUICK'\n",
      " 'KAWASAKI' 'JEEP' 'MITSUBISHI' 'SUNNY' 'LINCOLN' 'CHRY' 'INFI' 'SUBARU'\n",
      " 'GMC' 'MAZDA' 'BMW' 'NISS' 'WV' 'PONT' 'OLDS' 'LNDR' 'CHEV' 'MERCURY'\n",
      " 'XX' 'SAAB' 'CRUZ' 'HYANDAI' 'KIA' 'HUMMER' 'MERCEDES' 'MITSUBUSHI'\n",
      " 'SCION' 'VOLK' 'RANGE ROVER' 'PLYMOUTH' 'M BENZ' '2004' 'UNKNOWN'\n",
      " 'NEW FLYER' 'HARLEY DAVIDSON' 'HYUNDA' 'GRUMAN' 'IZUZU' 'BIGT'\n",
      " 'VOLKSWAGON' 'JAGUAR' 'BENTLEY' 'CRYSTLER' 'SUZI' 'RIELLA' 'FREIGHTLINER'\n",
      " 'MITS' 'VOLVO' 'TOY' 'VOLV' 'TOYT' 'PORS' 'ISUZU' 'CHRYSLER' 'SMART'\n",
      " 'COLNAGO' 'PETE' 'SUBURU' 'TESLA' 'INTL' 'LOTUS' 'WILDFIRE' 'NIITRO'\n",
      " 'MACK' 'VOLKSWAGEN' 'HINO' 'INIF' 'HYNDAI' 'LAND ROVER' 'SILVER' 'HINDA'\n",
      " 'B,W' 'NISSAN' 'GS350' 'TOTOTA' 'SUSUKI' 'RAM' 'HUYDIA' 'FIAT' 'MITZ'\n",
      " 'MB' 'RO VER' 'AVALON' 'VHECY' 'MNNI' 'SABB' 'WORK' 'SUBA' 'MAZA'\n",
      " 'LANDVAL2015' 'HON' 'CHYSLER' 'NUSSAN' 'MASE' 'PTRB' 'ISUZ' 'CEHV'\n",
      " 'FREIGHT' 'KEN' 'ASTO' 'TIYITA' 'JETTA' 'UPS TRUCK' 'LANDROVER' 'AMO'\n",
      " 'HUDS' 'HOND' 'CHECY' 'FROD' 'HYUANDAI' 'INTERNATIONAL' 'SATR' 'DUCA'\n",
      " 'BRMR' 'THOM' 'MUSTANG' 'ACYRA' 'STRN' 'MERCEDES BENZ' 'ASTON MARTIN'\n",
      " 'TPYOTA' '4S' 'UTIL' 'GEO' 'MERC' '3FNY97' 'SAT' 'SCOIN' 'BWM' 'VOLS'\n",
      " 'FRD' 'ACRUA' 'YAMA' 'TAOTAO' 'PORSCHE' 'BIANCHI' '9BT8644' 'CRY' 'BMC'\n",
      " 'PIAGGIO' '2016' 'MOTORIZED' 'LIEBHERR' nan 'ELGI' 'COGAR' 'MASERATI'\n",
      " 'MERZ' 'PROSCHE' 'MONT' 'LEXS' 'BUIC' 'DODGE' 'NIS' 'MEREDES' 'ACCORD'\n",
      " 'VIP' 'MERK' '00' 'TAIWAN GOLDEN B' 'CHEEY' 'DAEWOO' 'ORIO' 'ACURA'\n",
      " 'FUJI' 'CAD' 'WHITE' 'VESPA' 'COOLSTER' 'CHYRSLER' 'YUKON' 'INFINITY'\n",
      " 'LEXU' 'LOAD' 'HUNDYI' 'BNW' 'FOOD' 'SPNR' 'SUZUKI' 'LINC' 'WEST'\n",
      " 'CHVRLOLET' 'MINI' 'JAG' 'VW' 'EZDU' 'GORD' 'MCI' 'PREM' 'TOMOS' 'HOMD'\n",
      " 'CHEROLET' 'CARR' '6BR9831' 'GM' 'FIVE STAR' 'HUMAN BEING' 'FOED'\n",
      " 'CRISWELL' 'CRANE' 'SEDAN' 'SABLE' 'MAZ' 'AVURA' 'LYNX' 'JANUAR' 'BUELL'\n",
      " 'SU' 'TOMA' 'CHEVY' 'HYUNDAY' 'CH' 'LXUS' 'DEALER' 'ALFA' 'QUIC' 'FAOTAO'\n",
      " 'MATR' 'JAOTAO' 'A URA' 'SCOTT' 'Z71' 'MISS' 'EAGLE' 'CHRYSTLER'\n",
      " 'QUALITY' 'MIT' 'KIS' 'QLINK' 'DASH' 'HACKNEY' ',AZDA' 'VERSA' 'TOYOTOA'\n",
      " 'MOPED' 'CMC' 'AUBU' 'INFINITI' 'UHAUL' 'HYUD' 'HD' ';EXU' 'MCLAREN'\n",
      " 'FOR' 'FERRARI' 'ACCUR' 'TRI' 'JONDA' 'APRI' 'IZU' 'TAUTAU' 'JEEF' 'M34Z'\n",
      " 'AUGI' 'STERLING' 'UD' 'DONGFANG' 'BRAN' 'SION' 'BUYANG' 'S M E' 'CARG'\n",
      " 'OLDSMOBILE' 'HYUN' 'GENUINE SCOOTER COMP' 'HUZH' 'LEX' 'GRAND'\n",
      " 'GOLDEN BEE' 'NMW' 'HEIL' 'EXTREME' 'POLC' 'ROAD' 'SX4' 'GENERAL MOTOR'\n",
      " 'PENSKE' 'FOTD' 'CHRYVAL2008' 'MADA' '4DOOR' 'COPPER' 'DADGE' 'NEW FLUER'\n",
      " 'SSR' 'MER' '2AF9852' 'HYUNDIA' 'HUYNDAI' 'FOSTI' 'NERCEDES' 'CHEVEROLET'\n",
      " 'VENT' 'HNDA' 'IC' '2S' 'FRT' 'BRI MAR' 'GONDA' 'QIYE' 'TYOTA' 'ACUA'\n",
      " 'TAURUS' 'DIDGE' 'DDDGE' 'DOGE' 'MIRS' 'AUD' 'SUB' 'TOPB' 'INF' 'SAA'\n",
      " 'BASH' '325I' 'KING RING' 'NISSIAN' 'VOKS' 'XEF9688' 'AVANTI' 'POMT' 'MG'\n",
      " 'NDMC' 'DUKATI' 'MAZADA' 'CEV' 'ETON' 'CONV' 'HODA' 'MOTOVOX' 'YOYOYA'\n",
      " 'OTHR' 'JONWAY' 'OOTA' 'PONY' 'HONDVAL1999' 'MAZD' '2AC9011' 'VOLO'\n",
      " 'SENTRA' 'PIER SPEED' 'SATU' 'BW' 'ECLIPSE' 'KYCO' 'CPI' 'CAMRY' 'BOSS'\n",
      " 'HEVROLET' 'MAXIMA' 'MC' 'PT' 'FRHT' 'RAV4' 'EGIL' 'HYUNDAIR' 'KAW'\n",
      " 'ZHESING QIUG' 'PONTIAC' 'CK' 'A' 'VILK' 'SEBRING' 'TOTO' 'UU' 'JEEK'\n",
      " 'MRCERDEZ' 'VHEVROLET' 'ORD' 'PEQU' 'LIN' 'CADILLAC' 'FINN' 'VULC'\n",
      " 'VESPA/PIAGGIO' 'VOL' 'INTE' 'MI/FU' 'ISU' 'GILLIG' 'PHB' 'KENMORE'\n",
      " 'SPECIALIZED' 'MERECEDES' 'KTM' 'ELDO' 'KW' 'HOME' 'DTKON' 'CORVETTE'\n",
      " 'NEW HOLLAND' 'DYKON' 'BLUE BIRD' 'T0YT' 'LEIKE' 'MW' 'DATSUN'\n",
      " 'CRANE CARRIER' 'DIAMONDBACK' 'V0LV' 'NINGBO' 'DUCOTI' 'BMX' 'VHEV'\n",
      " 'VOLKVAL2014' '----' 'LLV' 'DHRY' 'JEEO' 'WESTERN STAR' 'KEXUS' 'KEEP'\n",
      " 'LANR' 'ERZ' 'ISSAN' 'BOUN' 'MIMI' 'TEXS' 'DOD' 'TREK' 'TOT'\n",
      " 'HYUNDAI GENESIS' 'LOAD TRAIL' 'RIDE-ON' 'ZNEN' 'LONCOLN' 'THOM BUS'\n",
      " 'RIDE ON' 'ROGUE' '5BB7282' 'PNT' 'HEEP' 'SUZU' 'MITTS' 'DF4958' 'D0DGE'\n",
      " 'NT' 'WORKHORSE' 'ROUTER' 'LUXUS' 'HYU' 'ODS' 'JEFF' 'CCC' 'DCION'\n",
      " 'INIFINITI' 'SATUVAL2002' 'JMPOWERSPORTS' 'TOW' 'ROLLS ROYCE' 'DODGEQ'\n",
      " 'LAND' 'HT' 'F150' 'SHORELANDER' 'VO;KS' 'TYG' 'NSSAN' 'CROWN' 'UPS'\n",
      " 'CHEVORLET' 'EXPEDITION' 'CDI' 'JIFF' 'E350' 'HYND' 'FELT' 'HUY' 'X'\n",
      " 'PED' 'LB50' 'BOOM' 'FREIGHT TK' 'DOSGE' 'ROV' 'JEP' 'LINCILN'\n",
      " 'MOTOR SCOOTER' 'CHEVYY' 'WOLKSWAGEN' 'TOYOTA PRIUS' 'F550'\n",
      " 'SHANGHAI JIMSTA' 'PLDS' 'FTWD' 'GILG' 'MECEDES' 'MEZ' 'YB50' 'VE'\n",
      " 'GREEN POWER' 'SOSGE' 'HOLM' 'BMWVAL2007' 'INFIVAL2013' 'SUBRARU'\n",
      " 'ACURVAL2003' 'COROLLA' 'FOCUS' 'BIKE' 'EZGO' 'MAST' 'MOTOBRAVO' 'ACRA'\n",
      " 'PETERBILT' 'TOYOYTA' 'Q' 'LESL' 'THOMAS' '99' 'LEUS' 'POIR' 'RANGE'\n",
      " 'WTD2680' 'STARCRAFT' 'VHRY' 'GRAND TENTON' 'CHEVYROLET' 'YAHMAHA'\n",
      " 'OLDSMOBOLE' 'VOK' 'E320' 'FRRW' 'UNK' 'PRRSC' 'MD' 'MASTERCRAFT' 'TRUCK'\n",
      " 'POLARIS' 'ACURRA' 'CADALLIAC' 'KENNILWORTH' 'JIALING' 'CAM' 'JOHN DEERE'\n",
      " 'RANG' 'SICON' 'KIO' 'CHEBROLET' 'BRP' 'TUYT' 'BUTL' 'MISTUBISHI'\n",
      " 'DEISEL' 'LAMO' 'JRTR' 'LEVUS' 'S550' 'SCI' 'BIG TEX' 'TAIZHOU' 'USJE'\n",
      " 'PREMIER' 'REISER' '8BY1270' 'CRYSLER' 'VICTORY TRAILER' 'CUST' 'ODGE'\n",
      " 'PLYM' 'DODE' 'HARLEY' '4BB5077' 'TSMR' 'CHEVY CAMARO' 'MERURY'\n",
      " 'EZ DUMPER' 'LOBO' 'HWK' 'MERCEDES-BENZ' 'ALFA ROMERO' 'CRAN'\n",
      " 'TOYOVAL2014' 'EM' 'CHRYLSER' 'ROLL' 'RYDER' '4RUNNER' '3' 'NISAAN'\n",
      " 'MITSUBSHI2DR' 'PERO' 'VLVO' 'COLCO' 'S' 'UNITED MOTORS' 'LANDCRUSIER'\n",
      " 'YUN' 'PREVOST' 'BLACK' 'PETER CON' 'FRH' 'MILL' 'TOYPTA' 'MREZ' 'MISSAN'\n",
      " '4D' 'MERCEDEX' 'TRIUMPH' 'YAHAMA' 'TOYATA' 'CHRYSLAR' 'BMQBMW' 'LONGBO'\n",
      " 'VOVO' 'TOYOVAL2011' 'PORCHE' 'NP' 'NISSAB' 'VILVO' 'JEE' '-'\n",
      " 'SHANGHAI SHENKE' 'BM' 'DODDGE' 'BETERBUILT' 'IMPALACHEVY' 'FLEET' 'FOD'\n",
      " 'IFINITI' '8BD1682' 'MITS/FUSO' '....' 'BEAMER' 'BMW2S' '7BE9868' 'BEND'\n",
      " 'CHEVRLETE' 'KRYSTAL' 'PEUG' 'COT' 'PLY' 'OUTBACK' 'PEOPLE' 'HONHDA'] 649\n",
      "['FORD' 'TOYOTA' 'HONDA' 'DODG' 'MINI COOPER' 'HYUNDAI' 'CADI' 'CHEVROLET'\n",
      " 'AUDI' 'SATURN' 'LEXUS' 'ACUR' 'GILL' 'NONE' 'MERCEDEZ' 'BUICK'\n",
      " 'KAWASAKI' 'JEEP' 'MITSUBISHI' 'SUNNY' 'LINCOLN' 'CHRY' 'INFI' 'SUBARU'\n",
      " 'GMC' 'MAZDA' 'BMW' 'NISS' 'WV' 'PONT' 'OLDS' 'LNDR' 'MERCURY' 'XX'\n",
      " 'SAAB' 'CRUZ' 'HYANDAI' 'KIA' 'HUMMER' 'MERCEDES' 'MITSUBUSHI' 'SCION'\n",
      " 'VOLK' 'RANGE ROVER' 'PLYMOUTH' 'M BENZ' '2004' 'UNKNOWN' 'NEW FLYER'\n",
      " 'HARLEY DAVIDSON' 'GRUMAN' 'IZUZU' 'BIGT' 'JAGUAR' 'BENTLEY' 'CRYSTLER'\n",
      " 'SUZI' 'RIELLA' 'FREIGHTLINER' 'VOLVO' 'PORS' 'ISUZU' 'SMART' 'COLNAGO'\n",
      " 'PETE' 'SUBURU' 'TESLA' 'INTL' 'LOTUS' 'WILDFIRE' 'NIITRO' 'MACK' 'HINO'\n",
      " 'INIF' 'SILVER' 'HINDA' 'B,W' 'GS350' 'TOTOTA' 'SUSUKI' 'RAM' 'HUYDIA'\n",
      " 'FIAT' 'MITZ' 'RO VER' 'AVALON' 'VHECY' 'MNNI' 'SABB' 'WORK'\n",
      " 'LANDVAL2015' 'CHRYSLER' 'NUSSAN' 'MASE' 'PTRB' 'CEHV' 'VOLKSWAGEN'\n",
      " 'ASTO' 'TIYITA' 'JETTA' 'UPS TRUCK' 'AMO' 'HUDS' 'CHECY' 'FROD' 'DUCA'\n",
      " 'BRMR' 'THOM' 'MUSTANG' 'ACYRA' 'TPYOTA' '4S' 'UTIL' '3FNY97' 'SCOIN'\n",
      " 'BWM' 'VOLKSWAGON' 'ACRUA' 'YAMA' 'TAOTAO' 'BIANCHI' '9BT8644' 'BMC'\n",
      " 'PIAGGIO' '2016' 'MOTORIZED' 'LIEBHERR' nan 'ELGI' 'COGAR' 'PROSCHE'\n",
      " 'MONT' 'ACCORD' 'VIP' 'MERK' 'TAIWAN GOLDEN B' 'CHEEY' 'DAEWOO' 'ORIO'\n",
      " 'FUJI' 'WHITE' 'VESPA' 'COOLSTER' 'CHYSLER' 'YUKON' 'LOAD' 'HUNDYI' 'BNW'\n",
      " 'FOOD' 'SPNR' 'WEST' 'CHVRLOLET' 'EZDU' 'GORD' 'MCI' 'PREM' 'TOMOS'\n",
      " 'HOMD' 'CARR' '6BR9831' 'FIVE STAR' 'MB' 'FOED' 'CRISWELL' 'CRANE'\n",
      " 'SEDAN' 'SABLE' 'AVURA' 'LYNX' 'JANUAR' 'BUELL' 'ASTON MARTIN' 'CHEV'\n",
      " 'HYUNDA' 'DEALER' 'ALFA' 'QUIC' 'FAOTAO' 'MATR' 'JAOTAO' 'A URA' 'SCOTT'\n",
      " 'Z71' 'EAGLE' 'QUALITY' 'KIS' 'QLINK' 'DASH' 'HACKNEY' ',AZDA' 'VERSA'\n",
      " 'MOPED' 'CMC' 'AUBU' 'UHAUL' ';EXU' 'MCLAREN' 'FERRARI' 'INTERNATIONAL'\n",
      " 'JONDA' 'APRI' 'TAUTAU' 'JEEF' 'M34Z' 'AUGI' 'STRN' 'DONGFANG' 'BRAN'\n",
      " 'BUYANG' 'S M E' 'CARG' 'GEO' 'HUZH' 'GRAND' 'GOLDEN BEE' 'NMW' 'HEIL'\n",
      " 'EXTREME' 'POLC' 'ROAD' 'SX4' 'PENSKE' 'FOTD' '4DOOR' 'COPPER' 'DADGE'\n",
      " 'NEW FLUER' 'SSR' '2AF9852' 'HYNDAI' 'FOSTI' 'NERCEDES' 'VENT' '2S'\n",
      " 'GONDA' 'QIYE' 'TAURUS' 'DIDGE' 'DDDGE' 'DODGE' 'MIRS' 'TOPB' 'BASH'\n",
      " '325I' 'KING RING' 'XEF9688' 'AVANTI' 'POMT' 'NDMC' 'DUKATI' 'CONV'\n",
      " 'MOTOVOX' 'YOYOYA' 'OTHR' 'JONWAY' 'PONY' '2AC9011' 'SENTRA' 'PIER SPEED'\n",
      " 'ECLIPSE' 'KYCO' 'CPI' 'CRY' 'BOSS' 'MAXIMA' 'RAV4' 'EGIL' 'SU' 'VILK'\n",
      " 'SEBRING' 'JEEK' 'MERZ' 'HEVROLET' 'PEQU' 'FINN' 'VULC' 'MI/FU' 'PHB'\n",
      " 'KEN' 'CAD' 'KTM' 'ELDO' 'HOME' 'DTKON' 'CORVETTE' 'HON' 'DYKON' 'UD'\n",
      " 'T0YT' 'LEIKE' 'V0LV' 'NINGBO' 'DUCOTI' 'BMX' 'VHEVROLET' '----' 'LLV'\n",
      " 'DHRY' 'JEEO' 'KEXUS' 'KEEP' 'LAND ROVER' 'NISSAN' 'BOUN' 'MIMI' 'TEXS'\n",
      " 'TREK' 'RIDE-ON' 'ZNEN' 'LONCOLN' 'RIDE ON' 'ROGUE' '5BB7282' 'HEEP'\n",
      " 'MITS' 'DF4958' 'D0DGE' 'ROUTER' 'LXUS' 'JEFF' 'CCC' 'DCION' 'SAT' 'TOW'\n",
      " 'ROLLS ROYCE' 'F150' 'VOKS' 'TYG' 'CROWN' 'ETON' 'JIFF' 'E350' 'FELT'\n",
      " 'LB50' 'BOOM' 'FREIGHT' 'DOGE' 'LINC' 'MER' 'F550' 'PLDS' 'FTWD' 'GILLIG'\n",
      " 'YB50' 'SOSGE' 'HOLM' 'A' 'FOCUS' 'BIKE' 'EZGO' 'MASERATI' 'LESL'\n",
      " 'HONDVAL1999' 'POIR' 'WTD2680' 'VHRY' 'E320' 'FRRW' 'PRRSC' 'JAG' 'CAMRY'\n",
      " 'HD' 'SION' 'KENNILWORTH' 'CHEROLET' 'BRP' 'TUYT' 'BUTL' 'DEISEL' 'JRTR'\n",
      " 'LEUS' 'S550' 'IZU' 'USJE' 'REISER' '8BY1270' 'TOY' 'CUST' '4BB5077'\n",
      " 'TSMR' 'OLDSMOBOLE' 'HWK' 'RYDER' '4RUNNER' 'NIS' 'JMPOWERSPORTS' 'COLCO'\n",
      " 'PT' 'CK' 'MILL' 'MISS' 'MERC' 'TRI' 'LOBO' 'PORSCHE' 'VLVO' 'FLEET'\n",
      " 'INFINITI' '8BD1682' '....' '7BE9868' 'BEND' 'PEUG' 'PEOPLE'] 403\n"
     ]
    },
    {
     "name": "stdout",
     "output_type": "stream",
     "text": [
      "['FORD' 'TOYOTA' 'HONDA' 'DODG' 'MINI COOPER' 'HYUNDAI' 'CADI' 'CHEVROLET'\n",
      " 'AUDI' 'SATURN' 'LEXUS' 'ACUR' 'GILL' 'NONE' 'MERCEDEZ' 'BUICK'\n",
      " 'KAWASAKI' 'JEEP' 'MITSUBISHI' 'SUNNY' 'LINCOLN' 'CHRY' 'INFI' 'SUBARU'\n",
      " 'GMC' 'MAZDA' 'BMW' 'NISS' 'WV' 'PONT' 'OLDS' 'LNDR' 'MERCURY' 'XX'\n",
      " 'SAAB' 'CRUZ' 'HYANDAI' 'KIA' 'HUMMER' 'MERCEDES' 'MITSUBUSHI' 'SCION'\n",
      " 'VOLK' 'RANGE ROVER' 'PLYMOUTH' 'M BENZ' '2004' 'UNKNOWN' 'NEW FLYER'\n",
      " 'HARLEY DAVIDSON' 'GRUMAN' 'IZUZU' 'BIGT' 'JAGUAR' 'BENTLEY' 'CRYSTLER'\n",
      " 'SUZI' 'RIELLA' 'FREIGHTLINER' 'VOLVO' 'PORS' 'ISUZU' 'SMART' 'COLNAGO'\n",
      " 'PETE' 'SUBURU' 'TESLA' 'INTL' 'LOTUS' 'WILDFIRE' 'NIITRO' 'MACK' 'HINO'\n",
      " 'INIF' 'SILVER' 'HINDA' 'B,W' 'GS350' 'TOTOTA' 'SUSUKI' 'RAM' 'HUYDIA'\n",
      " 'FIAT' 'MITZ' 'RO VER' 'AVALON' 'VHECY' 'MNNI' 'SABB' 'WORK'\n",
      " 'LANDVAL2015' 'NUSSAN' 'MASE' 'PTRB' 'CEHV' 'ASTO' 'TIYITA' 'JETTA'\n",
      " 'UPS TRUCK' 'AMO' 'HUDS' 'CHECY' 'FROD' 'DUCA' 'BRMR' 'THOM' 'MUSTANG'\n",
      " 'ACYRA' 'TPYOTA' '4S' 'UTIL' '3FNY97' 'SCOIN' 'BWM' 'ACRUA' 'YAMA'\n",
      " 'TAOTAO' 'BIANCHI' '9BT8644' 'BMC' 'PIAGGIO' '2016' 'MOTORIZED'\n",
      " 'LIEBHERR' nan 'ELGI' 'COGAR' 'PROSCHE' 'MONT' 'ACCORD' 'VIP' 'MERK'\n",
      " 'TAIWAN GOLDEN B' 'CHEEY' 'DAEWOO' 'ORIO' 'FUJI' 'WHITE' 'VESPA'\n",
      " 'COOLSTER' 'CHRYSLER' 'YUKON' 'LOAD' 'HUNDYI' 'BNW' 'FOOD' 'SPNR' 'WEST'\n",
      " 'CHVRLOLET' 'EZDU' 'GORD' 'MCI' 'PREM' 'TOMOS' 'HOMD' 'CARR' '6BR9831'\n",
      " 'FIVE STAR' 'FOED' 'CRISWELL' 'CRANE' 'SEDAN' 'SABLE' 'AVURA' 'LYNX'\n",
      " 'JANUAR' 'BUELL' 'DEALER' 'ALFA' 'QUIC' 'FAOTAO' 'MATR' 'JAOTAO' 'A URA'\n",
      " 'SCOTT' 'Z71' 'EAGLE' 'QUALITY' 'KIS' 'QLINK' 'DASH' 'HACKNEY' ',AZDA'\n",
      " 'VERSA' 'MOPED' 'CMC' 'AUBU' 'UHAUL' ';EXU' 'MCLAREN' 'FERRARI' 'JONDA'\n",
      " 'APRI' 'TAUTAU' 'JEEF' 'M34Z' 'AUGI' 'DONGFANG' 'BRAN' 'BUYANG' 'S M E'\n",
      " 'CARG' 'HUZH' 'GRAND' 'GOLDEN BEE' 'NMW' 'HEIL' 'EXTREME' 'POLC' 'ROAD'\n",
      " 'SX4' 'PENSKE' 'FOTD' '4DOOR' 'COPPER' 'DADGE' 'NEW FLUER' 'SSR'\n",
      " '2AF9852' 'FOSTI' 'NERCEDES' 'VENT' '2S' 'GONDA' 'QIYE' 'TAURUS' 'DIDGE'\n",
      " 'DDDGE' 'MIRS' 'TOPB' 'BASH' '325I' 'KING RING' 'XEF9688' 'AVANTI' 'POMT'\n",
      " 'NDMC' 'DUKATI' 'CONV' 'MOTOVOX' 'YOYOYA' 'OTHR' 'JONWAY' 'PONY'\n",
      " '2AC9011' 'SENTRA' 'PIER SPEED' 'ECLIPSE' 'KYCO' 'CPI' 'BOSS' 'MAXIMA'\n",
      " 'RAV4' 'EGIL' 'VILK' 'SEBRING' 'JEEK' 'PEQU' 'FINN' 'VULC' 'MI/FU' 'PHB'\n",
      " 'VOLKSWAGEN' 'KTM' 'ELDO' 'HOME' 'DTKON' 'CORVETTE' 'DYKON' 'T0YT'\n",
      " 'LEIKE' 'V0LV' 'NINGBO' 'DUCOTI' 'BMX' 'HEVROLET' '----' 'LLV' 'DHRY'\n",
      " 'JEEO' 'KEXUS' 'KEEP' 'BOUN' 'MIMI' 'TEXS' 'TREK' 'RIDE-ON' 'ZNEN'\n",
      " 'LONCOLN' 'RIDE ON' 'ROGUE' '5BB7282' 'HEEP' 'DF4958' 'D0DGE' 'ROUTER'\n",
      " 'JEFF' 'CCC' 'DCION' 'TOW' 'ROLLS ROYCE' 'F150' 'TYG' 'CROWN'\n",
      " 'INTERNATIONAL' 'JIFF' 'E350' 'FELT' 'LB50' 'BOOM' 'DODGE' 'F550' 'PLDS'\n",
      " 'FTWD' 'YB50' 'SOSGE' 'HOLM' 'FOCUS' 'BIKE' 'EZGO' 'LESL' 'POIR'\n",
      " 'WTD2680' 'VHRY' 'E320' 'FRRW' 'PRRSC' 'CRY' 'KEN' 'BRP' 'TUYT' 'BUTL'\n",
      " 'DEISEL' 'JRTR' 'S550' 'USJE' 'REISER' '8BY1270' 'CUST' '4BB5077' 'TSMR'\n",
      " 'HWK' 'RYDER' '4RUNNER' 'COLCO' 'MILL' 'OLDSMOBOLE' 'FLEET' '8BD1682'\n",
      " '....' '7BE9868' 'BEND' 'PEUG' 'PEOPLE'] 353\n",
      "['FORD' 'TOYOTA' 'HONDA' 'DODG' 'MINI COOPER' 'HYUNDAI' 'CADI' 'CHEVROLET'\n",
      " 'AUDI' 'SATURN' 'LEXUS' 'ACUR' 'GILL' 'NONE' 'MERCEDEZ' 'BUICK'\n",
      " 'KAWASAKI' 'JEEP' 'MITSUBISHI' 'SUNNY' 'LINCOLN' 'CHRY' 'INFI' 'SUBARU'\n",
      " 'GMC' 'MAZDA' 'BMW' 'NISS' 'WV' 'PONT' 'OLDS' 'LNDR' 'MERCURY' 'XX'\n",
      " 'SAAB' 'CRUZ' 'HYANDAI' 'KIA' 'HUMMER' 'MERCEDES' 'MITSUBUSHI' 'SCION'\n",
      " 'VOLK' 'RANGE ROVER' 'PLYMOUTH' 'M BENZ' '2004' 'UNKNOWN' 'NEW FLYER'\n",
      " 'HARLEY DAVIDSON' 'GRUMAN' 'IZUZU' 'BIGT' 'JAGUAR' 'BENTLEY' 'CRYSTLER'\n",
      " 'SUZI' 'RIELLA' 'FREIGHTLINER' 'VOLVO' 'PORS' 'ISUZU' 'SMART' 'COLNAGO'\n",
      " 'PETE' 'SUBURU' 'TESLA' 'INTL' 'LOTUS' 'WILDFIRE' 'NIITRO' 'MACK' 'HINO'\n",
      " 'INIF' 'SILVER' 'HINDA' 'B,W' 'GS350' 'TOTOTA' 'SUSUKI' 'RAM' 'HUYDIA'\n",
      " 'FIAT' 'MITZ' 'RO VER' 'AVALON' 'VHECY' 'MNNI' 'SABB' 'WORK'\n",
      " 'LANDVAL2015' 'NUSSAN' 'MASE' 'PTRB' 'CEHV' 'ASTO' 'TIYITA' 'JETTA'\n",
      " 'UPS TRUCK' 'AMO' 'HUDS' 'CHECY' 'FROD' 'DUCA' 'BRMR' 'THOM' 'MUSTANG'\n",
      " 'ACYRA' 'TPYOTA' '4S' 'UTIL' '3FNY97' 'SCOIN' 'BWM' 'ACRUA' 'YAMA'\n",
      " 'TAOTAO' 'BIANCHI' '9BT8644' 'BMC' 'PIAGGIO' '2016' 'MOTORIZED'\n",
      " 'LIEBHERR' nan 'ELGI' 'COGAR' 'PROSCHE' 'MONT' 'ACCORD' 'VIP' 'MERK'\n",
      " 'TAIWAN GOLDEN B' 'CHEEY' 'DAEWOO' 'ORIO' 'FUJI' 'WHITE' 'VESPA'\n",
      " 'COOLSTER' 'YUKON' 'LOAD' 'HUNDYI' 'BNW' 'FOOD' 'SPNR' 'WEST' 'CHVRLOLET'\n",
      " 'EZDU' 'GORD' 'MCI' 'PREM' 'TOMOS' 'HOMD' 'CARR' '6BR9831' 'FIVE STAR'\n",
      " 'FOED' 'CRISWELL' 'CRANE' 'SEDAN' 'SABLE' 'AVURA' 'LYNX' 'JANUAR' 'BUELL'\n",
      " 'DEALER' 'ALFA' 'QUIC' 'FAOTAO' 'MATR' 'JAOTAO' 'A URA' 'SCOTT' 'Z71'\n",
      " 'EAGLE' 'QUALITY' 'KIS' 'QLINK' 'DASH' 'HACKNEY' ',AZDA' 'VERSA' 'MOPED'\n",
      " 'CMC' 'AUBU' 'UHAUL' ';EXU' 'MCLAREN' 'FERRARI' 'JONDA' 'APRI' 'TAUTAU'\n",
      " 'JEEF' 'M34Z' 'AUGI' 'DONGFANG' 'BRAN' 'BUYANG' 'S M E' 'CARG' 'HUZH'\n",
      " 'GRAND' 'GOLDEN BEE' 'NMW' 'HEIL' 'EXTREME' 'POLC' 'ROAD' 'SX4' 'PENSKE'\n",
      " 'FOTD' '4DOOR' 'COPPER' 'DADGE' 'NEW FLUER' 'SSR' '2AF9852' 'FOSTI'\n",
      " 'NERCEDES' 'VENT' '2S' 'GONDA' 'QIYE' 'TAURUS' 'DIDGE' 'DDDGE' 'MIRS'\n",
      " 'TOPB' 'BASH' '325I' 'KING RING' 'XEF9688' 'AVANTI' 'POMT' 'NDMC'\n",
      " 'DUKATI' 'CONV' 'MOTOVOX' 'YOYOYA' 'OTHR' 'JONWAY' 'PONY' '2AC9011'\n",
      " 'SENTRA' 'PIER SPEED' 'ECLIPSE' 'KYCO' 'CPI' 'BOSS' 'MAXIMA' 'RAV4'\n",
      " 'EGIL' 'VILK' 'SEBRING' 'JEEK' 'PEQU' 'FINN' 'VULC' 'MI/FU' 'PHB' 'KTM'\n",
      " 'ELDO' 'HOME' 'DTKON' 'CORVETTE' 'DYKON' 'T0YT' 'LEIKE' 'V0LV' 'NINGBO'\n",
      " 'DUCOTI' 'BMX' '----' 'LLV' 'DHRY' 'JEEO' 'KEXUS' 'KEEP' 'BOUN' 'MIMI'\n",
      " 'TEXS' 'TREK' 'RIDE-ON' 'ZNEN' 'LONCOLN' 'RIDE ON' 'ROGUE' '5BB7282'\n",
      " 'HEEP' 'DF4958' 'D0DGE' 'ROUTER' 'JEFF' 'CCC' 'DCION' 'TOW' 'ROLLS ROYCE'\n",
      " 'F150' 'TYG' 'CROWN' 'JIFF' 'E350' 'FELT' 'LB50' 'BOOM' 'F550' 'PLDS'\n",
      " 'FTWD' 'YB50' 'SOSGE' 'HOLM' 'FOCUS' 'BIKE' 'EZGO' 'LESL' 'POIR'\n",
      " 'WTD2680' 'VHRY' 'E320' 'FRRW' 'PRRSC' 'VOLKSWAGEN' 'BRP' 'TUYT' 'BUTL'\n",
      " 'DEISEL' 'JRTR' 'S550' 'USJE' 'REISER' '8BY1270' 'CUST' '4BB5077' 'TSMR'\n",
      " 'HWK' 'RYDER' '4RUNNER' 'COLCO' 'MILL' 'FLEET' '8BD1682' '....' '7BE9868'\n",
      " 'BEND' 'PEUG' 'PEOPLE'] 346\n",
      "['FORD' 'TOYOTA' 'HONDA' 'DODG' 'MINI COOPER' 'HYUNDAI' 'CADI' 'CHEVROLET'\n",
      " 'AUDI' 'SATURN' 'LEXUS' 'ACUR' 'GILL' 'NONE' 'MERCEDEZ' 'BUICK'\n",
      " 'KAWASAKI' 'JEEP' 'MITSUBISHI' 'SUNNY' 'LINCOLN' 'CHRY' 'INFI' 'SUBARU'\n",
      " 'GMC' 'MAZDA' 'BMW' 'NISS' 'WV' 'PONT' 'OLDS' 'LNDR' 'MERCURY' 'XX'\n",
      " 'SAAB' 'CRUZ' 'HYANDAI' 'KIA' 'HUMMER' 'MERCEDES' 'MITSUBUSHI' 'SCION'\n",
      " 'VOLK' 'RANGE ROVER' 'PLYMOUTH' 'M BENZ' '2004' 'UNKNOWN' 'NEW FLYER'\n",
      " 'HARLEY DAVIDSON' 'GRUMAN' 'IZUZU' 'BIGT' 'JAGUAR' 'BENTLEY' 'CRYSTLER'\n",
      " 'SUZI' 'RIELLA' 'FREIGHTLINER' 'VOLVO' 'PORS' 'ISUZU' 'SMART' 'COLNAGO'\n",
      " 'PETE' 'SUBURU' 'TESLA' 'INTL' 'LOTUS' 'WILDFIRE' 'NIITRO' 'MACK' 'HINO'\n",
      " 'INIF' 'SILVER' 'HINDA' 'B,W' 'GS350' 'TOTOTA' 'SUSUKI' 'RAM' 'HUYDIA'\n",
      " 'FIAT' 'MITZ' 'RO VER' 'AVALON' 'VHECY' 'MNNI' 'SABB' 'WORK'\n",
      " 'LANDVAL2015' 'NUSSAN' 'MASE' 'PTRB' 'CEHV' 'ASTO' 'TIYITA' 'JETTA'\n",
      " 'UPS TRUCK' 'AMO' 'HUDS' 'CHECY' 'FROD' 'DUCA' 'BRMR' 'THOM' 'MUSTANG'\n",
      " 'ACYRA' 'TPYOTA' '4S' 'UTIL' '3FNY97' 'SCOIN' 'BWM' 'ACRUA' 'YAMA'\n",
      " 'TAOTAO' 'BIANCHI' '9BT8644' 'BMC' 'PIAGGIO' '2016' 'MOTORIZED'\n",
      " 'LIEBHERR' nan 'ELGI' 'COGAR' 'PROSCHE' 'MONT' 'ACCORD' 'VIP' 'MERK'\n",
      " 'TAIWAN GOLDEN B' 'CHEEY' 'DAEWOO' 'ORIO' 'FUJI' 'WHITE' 'VESPA'\n",
      " 'COOLSTER' 'YUKON' 'LOAD' 'HUNDYI' 'BNW' 'FOOD' 'SPNR' 'WEST' 'CHVRLOLET'\n",
      " 'EZDU' 'GORD' 'MCI' 'PREM' 'TOMOS' 'HOMD' 'CARR' '6BR9831' 'FIVE STAR'\n",
      " 'FOED' 'CRISWELL' 'CRANE' 'SEDAN' 'SABLE' 'AVURA' 'LYNX' 'JANUAR' 'BUELL'\n",
      " 'DEALER' 'ALFA' 'QUIC' 'FAOTAO' 'MATR' 'JAOTAO' 'A URA' 'SCOTT' 'Z71'\n",
      " 'EAGLE' 'QUALITY' 'KIS' 'QLINK' 'DASH' 'HACKNEY' ',AZDA' 'VERSA' 'MOPED'\n",
      " 'CMC' 'AUBU' 'UHAUL' ';EXU' 'MCLAREN' 'FERRARI' 'JONDA' 'APRI' 'TAUTAU'\n",
      " 'JEEF' 'M34Z' 'AUGI' 'DONGFANG' 'BRAN' 'BUYANG' 'S M E' 'CARG' 'HUZH'\n",
      " 'GRAND' 'GOLDEN BEE' 'NMW' 'HEIL' 'EXTREME' 'POLC' 'ROAD' 'SX4' 'PENSKE'\n",
      " 'FOTD' '4DOOR' 'COPPER' 'DADGE' 'NEW FLUER' 'SSR' '2AF9852' 'FOSTI'\n",
      " 'NERCEDES' 'VENT' '2S' 'GONDA' 'QIYE' 'TAURUS' 'DIDGE' 'DDDGE' 'MIRS'\n",
      " 'TOPB' 'BASH' '325I' 'KING RING' 'XEF9688' 'AVANTI' 'POMT' 'NDMC'\n",
      " 'DUKATI' 'CONV' 'MOTOVOX' 'YOYOYA' 'OTHR' 'JONWAY' 'PONY' '2AC9011'\n",
      " 'SENTRA' 'PIER SPEED' 'ECLIPSE' 'KYCO' 'CPI' 'BOSS' 'MAXIMA' 'RAV4'\n",
      " 'EGIL' 'VILK' 'SEBRING' 'JEEK' 'PEQU' 'FINN' 'VULC' 'MI/FU' 'PHB' 'KTM'\n",
      " 'ELDO' 'HOME' 'DTKON' 'CORVETTE' 'DYKON' 'T0YT' 'LEIKE' 'V0LV' 'NINGBO'\n",
      " 'DUCOTI' 'BMX' '----' 'LLV' 'DHRY' 'JEEO' 'KEXUS' 'KEEP' 'BOUN' 'MIMI'\n",
      " 'TEXS' 'TREK' 'RIDE-ON' 'ZNEN' 'LONCOLN' 'RIDE ON' 'ROGUE' '5BB7282'\n",
      " 'HEEP' 'DF4958' 'D0DGE' 'ROUTER' 'JEFF' 'CCC' 'DCION' 'TOW' 'ROLLS ROYCE'\n",
      " 'F150' 'TYG' 'CROWN' 'JIFF' 'E350' 'FELT' 'LB50' 'BOOM' 'F550' 'PLDS'\n",
      " 'FTWD' 'YB50' 'SOSGE' 'HOLM' 'FOCUS' 'BIKE' 'EZGO' 'LESL' 'POIR'\n",
      " 'WTD2680' 'VHRY' 'E320' 'FRRW' 'PRRSC' 'BRP' 'TUYT' 'BUTL' 'DEISEL'\n",
      " 'JRTR' 'S550' 'USJE' 'REISER' '8BY1270' 'CUST' '4BB5077' 'TSMR' 'HWK'\n",
      " 'RYDER' '4RUNNER' 'COLCO' 'MILL' 'FLEET' '8BD1682' '....' '7BE9868'\n",
      " 'BEND' 'PEUG' 'PEOPLE'] 345\n"
     ]
    },
    {
     "name": "stdout",
     "output_type": "stream",
     "text": [
      "['FORD' 'TOYOTA' 'HONDA' 'DODG' 'MINI COOPER' 'HYUNDAI' 'CADI' 'CHEVROLET'\n",
      " 'AUDI' 'SATURN' 'LEXUS' 'ACUR' 'GILL' 'NONE' 'MERCEDEZ' 'BUICK'\n",
      " 'KAWASAKI' 'JEEP' 'MITSUBISHI' 'SUNNY' 'LINCOLN' 'CHRY' 'INFI' 'SUBARU'\n",
      " 'GMC' 'MAZDA' 'BMW' 'NISS' 'WV' 'PONT' 'OLDS' 'LNDR' 'MERCURY' 'XX'\n",
      " 'SAAB' 'CRUZ' 'HYANDAI' 'KIA' 'HUMMER' 'MERCEDES' 'MITSUBUSHI' 'SCION'\n",
      " 'VOLK' 'RANGE ROVER' 'PLYMOUTH' 'M BENZ' '2004' 'UNKNOWN' 'NEW FLYER'\n",
      " 'HARLEY DAVIDSON' 'GRUMAN' 'IZUZU' 'BIGT' 'JAGUAR' 'BENTLEY' 'CRYSTLER'\n",
      " 'SUZI' 'RIELLA' 'FREIGHTLINER' 'VOLVO' 'PORS' 'ISUZU' 'SMART' 'COLNAGO'\n",
      " 'PETE' 'SUBURU' 'TESLA' 'INTL' 'LOTUS' 'WILDFIRE' 'NIITRO' 'MACK' 'HINO'\n",
      " 'INIF' 'SILVER' 'HINDA' 'B,W' 'GS350' 'TOTOTA' 'SUSUKI' 'RAM' 'HUYDIA'\n",
      " 'FIAT' 'MITZ' 'RO VER' 'AVALON' 'VHECY' 'MNNI' 'SABB' 'WORK'\n",
      " 'LANDVAL2015' 'NUSSAN' 'MASE' 'PTRB' 'CEHV' 'ASTO' 'TIYITA' 'JETTA'\n",
      " 'UPS TRUCK' 'AMO' 'HUDS' 'CHECY' 'FROD' 'DUCA' 'BRMR' 'THOM' 'MUSTANG'\n",
      " 'ACYRA' 'TPYOTA' '4S' 'UTIL' '3FNY97' 'SCOIN' 'BWM' 'ACRUA' 'YAMA'\n",
      " 'TAOTAO' 'BIANCHI' '9BT8644' 'BMC' 'PIAGGIO' '2016' 'MOTORIZED'\n",
      " 'LIEBHERR' nan 'ELGI' 'COGAR' 'PROSCHE' 'MONT' 'ACCORD' 'VIP' 'MERK'\n",
      " 'TAIWAN GOLDEN B' 'CHEEY' 'DAEWOO' 'ORIO' 'FUJI' 'WHITE' 'VESPA'\n",
      " 'COOLSTER' 'YUKON' 'LOAD' 'HUNDYI' 'BNW' 'FOOD' 'SPNR' 'WEST' 'CHVRLOLET'\n",
      " 'EZDU' 'GORD' 'MCI' 'PREM' 'TOMOS' 'HOMD' 'CARR' '6BR9831' 'FIVE STAR'\n",
      " 'FOED' 'CRISWELL' 'CRANE' 'SEDAN' 'SABLE' 'AVURA' 'LYNX' 'JANUAR' 'BUELL'\n",
      " 'DEALER' 'ALFA' 'QUIC' 'FAOTAO' 'MATR' 'JAOTAO' 'A URA' 'SCOTT' 'Z71'\n",
      " 'EAGLE' 'QUALITY' 'KIS' 'QLINK' 'DASH' 'HACKNEY' ',AZDA' 'VERSA' 'MOPED'\n",
      " 'CMC' 'AUBU' 'UHAUL' ';EXU' 'MCLAREN' 'FERRARI' 'JONDA' 'APRI' 'TAUTAU'\n",
      " 'JEEF' 'M34Z' 'AUGI' 'DONGFANG' 'BRAN' 'BUYANG' 'S M E' 'CARG' 'HUZH'\n",
      " 'GRAND' 'GOLDEN BEE' 'NMW' 'HEIL' 'EXTREME' 'POLC' 'ROAD' 'SX4' 'PENSKE'\n",
      " 'FOTD' '4DOOR' 'COPPER' 'DADGE' 'NEW FLUER' 'SSR' '2AF9852' 'FOSTI'\n",
      " 'NERCEDES' 'VENT' '2S' 'GONDA' 'QIYE' 'TAURUS' 'DIDGE' 'DDDGE' 'MIRS'\n",
      " 'TOPB' 'BASH' '325I' 'KING RING' 'XEF9688' 'AVANTI' 'POMT' 'NDMC'\n",
      " 'DUKATI' 'CONV' 'MOTOVOX' 'YOYOYA' 'OTHR' 'JONWAY' 'PONY' '2AC9011'\n",
      " 'SENTRA' 'PIER SPEED' 'ECLIPSE' 'KYCO' 'CPI' 'BOSS' 'MAXIMA' 'RAV4'\n",
      " 'EGIL' 'VILK' 'SEBRING' 'JEEK' 'PEQU' 'FINN' 'VULC' 'MI/FU' 'PHB' 'KTM'\n",
      " 'ELDO' 'HOME' 'DTKON' 'CORVETTE' 'DYKON' 'T0YT' 'LEIKE' 'V0LV' 'NINGBO'\n",
      " 'DUCOTI' 'BMX' '----' 'LLV' 'DHRY' 'JEEO' 'KEXUS' 'KEEP' 'BOUN' 'MIMI'\n",
      " 'TEXS' 'TREK' 'RIDE-ON' 'ZNEN' 'LONCOLN' 'RIDE ON' 'ROGUE' '5BB7282'\n",
      " 'HEEP' 'DF4958' 'D0DGE' 'ROUTER' 'JEFF' 'CCC' 'DCION' 'TOW' 'ROLLS ROYCE'\n",
      " 'F150' 'TYG' 'CROWN' 'JIFF' 'E350' 'FELT' 'LB50' 'BOOM' 'F550' 'PLDS'\n",
      " 'FTWD' 'YB50' 'SOSGE' 'HOLM' 'FOCUS' 'BIKE' 'EZGO' 'LESL' 'POIR'\n",
      " 'WTD2680' 'VHRY' 'E320' 'FRRW' 'PRRSC' 'BRP' 'TUYT' 'BUTL' 'DEISEL'\n",
      " 'JRTR' 'S550' 'USJE' 'REISER' '8BY1270' 'CUST' '4BB5077' 'TSMR' 'HWK'\n",
      " 'RYDER' '4RUNNER' 'COLCO' 'MILL' 'FLEET' '8BD1682' '....' '7BE9868'\n",
      " 'BEND' 'PEUG' 'PEOPLE'] 345\n"
     ]
    }
   ],
   "source": [
    "s = data['Make'].nunique()\n",
    "prev= 0\n",
    "while(s != prev):\n",
    "    make = data['Make'].unique()\n",
    "    prev = s\n",
    "    makee = data['Make']\n",
    "    reform = dict()\n",
    "    for item in make:\n",
    "        for iitem in make:\n",
    "            if(iitem in reform):\n",
    "                continue\n",
    "            x = str(item)\n",
    "            y = str(iitem)\n",
    "            a = lcs(x,y)\n",
    "            if(a == len(x) or a == len(y)):\n",
    "                reform[x] = x\n",
    "                reform[y] = y\n",
    "                makee = makee.replace(y,x)\n",
    "    print(makee.unique(),makee.nunique())\n",
    "    data['Make'] = makee\n",
    "    s = data['Make'].nunique()\n",
    "    "
   ]
  },
  {
   "cell_type": "code",
   "execution_count": 5,
   "metadata": {
    "collapsed": true
   },
   "outputs": [],
   "source": [
    "data = data.drop(['Longitude','Latitude','Year','Geolocation'],axis = 1)"
   ]
  },
  {
   "cell_type": "code",
   "execution_count": 6,
   "metadata": {},
   "outputs": [
    {
     "data": {
      "text/html": [
       "<div>\n",
       "<style>\n",
       "    .dataframe thead tr:only-child th {\n",
       "        text-align: right;\n",
       "    }\n",
       "\n",
       "    .dataframe thead th {\n",
       "        text-align: left;\n",
       "    }\n",
       "\n",
       "    .dataframe tbody tr th {\n",
       "        vertical-align: top;\n",
       "    }\n",
       "</style>\n",
       "<table border=\"1\" class=\"dataframe\">\n",
       "  <thead>\n",
       "    <tr style=\"text-align: right;\">\n",
       "      <th></th>\n",
       "      <th>Make</th>\n",
       "      <th>Model</th>\n",
       "      <th>Color</th>\n",
       "      <th>Violation Type</th>\n",
       "      <th>Contributed To Accident</th>\n",
       "      <th>Race</th>\n",
       "      <th>Gender</th>\n",
       "      <th>Driver State</th>\n",
       "    </tr>\n",
       "  </thead>\n",
       "  <tbody>\n",
       "    <tr>\n",
       "      <th>0</th>\n",
       "      <td>FORD</td>\n",
       "      <td>4S</td>\n",
       "      <td>BLACK</td>\n",
       "      <td>Citation</td>\n",
       "      <td>No</td>\n",
       "      <td>BLACK</td>\n",
       "      <td>M</td>\n",
       "      <td>MD</td>\n",
       "    </tr>\n",
       "    <tr>\n",
       "      <th>1</th>\n",
       "      <td>TOYOTA</td>\n",
       "      <td>COROLLA</td>\n",
       "      <td>GREEN</td>\n",
       "      <td>Citation</td>\n",
       "      <td>No</td>\n",
       "      <td>WHITE</td>\n",
       "      <td>F</td>\n",
       "      <td>VA</td>\n",
       "    </tr>\n",
       "    <tr>\n",
       "      <th>2</th>\n",
       "      <td>HONDA</td>\n",
       "      <td>ACCORD</td>\n",
       "      <td>SILVER</td>\n",
       "      <td>Citation</td>\n",
       "      <td>No</td>\n",
       "      <td>BLACK</td>\n",
       "      <td>F</td>\n",
       "      <td>MD</td>\n",
       "    </tr>\n",
       "    <tr>\n",
       "      <th>3</th>\n",
       "      <td>DODG</td>\n",
       "      <td>DAKOTA</td>\n",
       "      <td>WHITE</td>\n",
       "      <td>Citation</td>\n",
       "      <td>No</td>\n",
       "      <td>BLACK</td>\n",
       "      <td>M</td>\n",
       "      <td>MD</td>\n",
       "    </tr>\n",
       "    <tr>\n",
       "      <th>4</th>\n",
       "      <td>MINI COOPER</td>\n",
       "      <td>2S</td>\n",
       "      <td>WHITE</td>\n",
       "      <td>Citation</td>\n",
       "      <td>No</td>\n",
       "      <td>WHITE</td>\n",
       "      <td>M</td>\n",
       "      <td>MD</td>\n",
       "    </tr>\n",
       "  </tbody>\n",
       "</table>\n",
       "</div>"
      ],
      "text/plain": [
       "          Make    Model   Color Violation Type Contributed To Accident   Race  \\\n",
       "0         FORD       4S   BLACK       Citation                      No  BLACK   \n",
       "1       TOYOTA  COROLLA   GREEN       Citation                      No  WHITE   \n",
       "2        HONDA   ACCORD  SILVER       Citation                      No  BLACK   \n",
       "3         DODG   DAKOTA   WHITE       Citation                      No  BLACK   \n",
       "4  MINI COOPER       2S   WHITE       Citation                      No  WHITE   \n",
       "\n",
       "  Gender Driver State  \n",
       "0      M           MD  \n",
       "1      F           VA  \n",
       "2      F           MD  \n",
       "3      M           MD  \n",
       "4      M           MD  "
      ]
     },
     "execution_count": 6,
     "metadata": {},
     "output_type": "execute_result"
    }
   ],
   "source": [
    "data3 = data.drop(['Date Of Stop', 'Time Of Stop','Description','SubAgency','Location','Charge','Article','Driver City','DL State','Arrest Type'],axis = 1)\n",
    "data2 = data3.iloc[:,13:]\n",
    "data2.head()"
   ]
  },
  {
   "cell_type": "code",
   "execution_count": 7,
   "metadata": {},
   "outputs": [
    {
     "name": "stdout",
     "output_type": "stream",
     "text": [
      "<class 'pandas.core.frame.DataFrame'>\n",
      "RangeIndex: 1281327 entries, 0 to 1281326\n",
      "Data columns (total 5 columns):\n",
      "Make              1281270 non-null object\n",
      "Race              1281327 non-null object\n",
      "Gender            1281327 non-null object\n",
      "Driver State      1281316 non-null object\n",
      "Violation Type    1281327 non-null object\n",
      "dtypes: object(5)\n",
      "memory usage: 48.9+ MB\n"
     ]
    }
   ],
   "source": [
    "data1 = data.loc[:,['Make','Race','Gender','Driver State','Violation Type']]\n",
    "data1.info()"
   ]
  },
  {
   "cell_type": "code",
   "execution_count": 8,
   "metadata": {
    "collapsed": true
   },
   "outputs": [],
   "source": [
    "lg = LogisticRegression(solver = 'sag')"
   ]
  },
  {
   "cell_type": "code",
   "execution_count": 9,
   "metadata": {},
   "outputs": [
    {
     "name": "stdout",
     "output_type": "stream",
     "text": [
      "<class 'pandas.core.frame.DataFrame'>\n",
      "RangeIndex: 1281327 entries, 0 to 1281326\n",
      "Data columns (total 5 columns):\n",
      "Make              1281327 non-null int64\n",
      "Race              1281327 non-null int64\n",
      "Gender            1281327 non-null int64\n",
      "Driver State      1281327 non-null int64\n",
      "Violation Type    1281327 non-null int64\n",
      "dtypes: int64(5)\n",
      "memory usage: 48.9 MB\n"
     ]
    }
   ],
   "source": [
    "for column in data1:\n",
    "    data1[column] = pd.factorize(data1[column])[0]\n",
    "data1.info()"
   ]
  },
  {
   "cell_type": "code",
   "execution_count": 10,
   "metadata": {
    "scrolled": false
   },
   "outputs": [
    {
     "name": "stderr",
     "output_type": "stream",
     "text": [
      "c:\\python35\\lib\\site-packages\\ipykernel_launcher.py:2: SettingWithCopyWarning: \n",
      "A value is trying to be set on a copy of a slice from a DataFrame.\n",
      "Try using .loc[row_indexer,col_indexer] = value instead\n",
      "\n",
      "See the caveats in the documentation: http://pandas.pydata.org/pandas-docs/stable/indexing.html#indexing-view-versus-copy\n",
      "  \n"
     ]
    },
    {
     "name": "stdout",
     "output_type": "stream",
     "text": [
      "<class 'pandas.core.frame.DataFrame'>\n",
      "RangeIndex: 1281327 entries, 0 to 1281326\n",
      "Data columns (total 8 columns):\n",
      "Make                       1281327 non-null int64\n",
      "Model                      1281327 non-null int64\n",
      "Color                      1281327 non-null int64\n",
      "Violation Type             1281327 non-null int64\n",
      "Contributed To Accident    1281327 non-null int64\n",
      "Race                       1281327 non-null int64\n",
      "Gender                     1281327 non-null int64\n",
      "Driver State               1281327 non-null int64\n",
      "dtypes: int64(8)\n",
      "memory usage: 78.2 MB\n",
      "346\n",
      "17486\n",
      "27\n",
      "4\n",
      "2\n",
      "6\n",
      "3\n",
      "69\n"
     ]
    }
   ],
   "source": [
    "for column in data2:\n",
    "    data2[column] = pd.factorize(data2[column])[0]\n",
    "data2.info()\n",
    "for column in data2:\n",
    "    print(data2[column].nunique())"
   ]
  },
  {
   "cell_type": "code",
   "execution_count": 11,
   "metadata": {},
   "outputs": [
    {
     "name": "stdout",
     "output_type": "stream",
     "text": [
      "<class 'pandas.core.frame.DataFrame'>\n",
      "RangeIndex: 1281327 entries, 0 to 1281326\n",
      "Data columns (total 21 columns):\n",
      "Agency                     1281327 non-null int64\n",
      "Accident                   1281327 non-null int64\n",
      "Belts                      1281327 non-null int64\n",
      "Personal Injury            1281327 non-null int64\n",
      "Property Damage            1281327 non-null int64\n",
      "Fatal                      1281327 non-null int64\n",
      "Commercial License         1281327 non-null int64\n",
      "HAZMAT                     1281327 non-null int64\n",
      "Commercial Vehicle         1281327 non-null int64\n",
      "Alcohol                    1281327 non-null int64\n",
      "Work Zone                  1281327 non-null int64\n",
      "State                      1281327 non-null int64\n",
      "VehicleType                1281327 non-null int64\n",
      "Make                       1281327 non-null int64\n",
      "Model                      1281327 non-null int64\n",
      "Color                      1281327 non-null int64\n",
      "Violation Type             1281327 non-null int64\n",
      "Contributed To Accident    1281327 non-null int64\n",
      "Race                       1281327 non-null int64\n",
      "Gender                     1281327 non-null int64\n",
      "Driver State               1281327 non-null int64\n",
      "dtypes: int64(21)\n",
      "memory usage: 205.3 MB\n",
      "1\n",
      "1\n",
      "2\n",
      "2\n",
      "2\n",
      "2\n",
      "2\n",
      "2\n",
      "2\n",
      "2\n",
      "2\n",
      "70\n",
      "33\n",
      "346\n",
      "17486\n",
      "27\n",
      "4\n",
      "2\n",
      "6\n",
      "3\n",
      "69\n"
     ]
    }
   ],
   "source": [
    "for column in data3:\n",
    "    data3[column] = pd.factorize(data3[column])[0]\n",
    "data3.info()\n",
    "for column in data3:\n",
    "    print(data3[column].nunique())"
   ]
  },
  {
   "cell_type": "code",
   "execution_count": 14,
   "metadata": {
    "collapsed": true
   },
   "outputs": [],
   "source": [
    "X = data2.drop('Gender',axis = 1).values\n",
    "y = to_categorical(data2['Gender'])\n",
    "train_data,test_data,train_labels,test_labels = tts(X,y,test_size = 0.3, random_state = 42)"
   ]
  },
  {
   "cell_type": "code",
   "execution_count": 30,
   "metadata": {},
   "outputs": [
    {
     "name": "stderr",
     "output_type": "stream",
     "text": [
      "c:\\python35\\lib\\site-packages\\sklearn\\utils\\validation.py:429: DataConversionWarning: Data with input dtype int64 was converted to float64 by StandardScaler.\n",
      "  warnings.warn(msg, _DataConversionWarning)\n"
     ]
    },
    {
     "name": "stdout",
     "output_type": "stream",
     "text": [
      "(1281327, 8)\n"
     ]
    },
    {
     "data": {
      "text/plain": [
       "([<matplotlib.axis.XTick at 0x22911df60f0>,\n",
       "  <matplotlib.axis.XTick at 0x22915a219b0>,\n",
       "  <matplotlib.axis.XTick at 0x22914bcfbe0>,\n",
       "  <matplotlib.axis.XTick at 0x2290f0d0cc0>,\n",
       "  <matplotlib.axis.XTick at 0x2290ef0ecc0>,\n",
       "  <matplotlib.axis.XTick at 0x2290eface80>,\n",
       "  <matplotlib.axis.XTick at 0x2290efac208>,\n",
       "  <matplotlib.axis.XTick at 0x2290efaacf8>],\n",
       " <a list of 8 Text xticklabel objects>)"
      ]
     },
     "execution_count": 30,
     "metadata": {},
     "output_type": "execute_result"
    }
   ],
   "source": [
    "scaler = StandardScaler()\n",
    "\n",
    "# Create a PCA instance: pca\n",
    "pca = PCA()\n",
    "# Create pipeline: pipeline\n",
    "pipeline = make_pipeline(scaler,pca)\n",
    "# Fit the pipeline to 'samples'\n",
    "pipeline.fit(data2.values)\n",
    "# Plot the explained variances\n",
    "features = range(pca.n_components_)\n",
    "print(data2.values.shape)\n",
    "plt.figure(1)\n",
    "plt.bar(features, pca.explained_variance_)\n",
    "plt.xlabel('PCA feature')\n",
    "plt.ylabel('variance')\n",
    "plt.xticks(features)"
   ]
  },
  {
   "cell_type": "code",
   "execution_count": 31,
   "metadata": {},
   "outputs": [
    {
     "name": "stderr",
     "output_type": "stream",
     "text": [
      "c:\\python35\\lib\\site-packages\\sklearn\\utils\\validation.py:429: DataConversionWarning: Data with input dtype int64 was converted to float64 by StandardScaler.\n",
      "  warnings.warn(msg, _DataConversionWarning)\n"
     ]
    },
    {
     "data": {
      "image/png": "[encoded data removed]",
      "text/plain": [
       "<matplotlib.figure.Figure at 0x22968451390>"
      ]
     },
     "metadata": {},
     "output_type": "display_data"
    },
    {
     "data": {
      "image/png": "[encoded data removed]",
      "text/plain": [
       "<matplotlib.figure.Figure at 0x22916d7d8d0>"
      ]
     },
     "metadata": {},
     "output_type": "display_data"
    }
   ],
   "source": [
    "pipeline.fit(data3.values)\n",
    "features = range(pca.n_components_)\n",
    "plt.figure(2)\n",
    "plt.bar(features, pca.explained_variance_)\n",
    "plt.xlabel('PCA feature')\n",
    "plt.ylabel('variance')\n",
    "plt.xticks(features)\n",
    "plt.show()"
   ]
  },
  {
   "cell_type": "code",
   "execution_count": 46,
   "metadata": {
    "collapsed": true
   },
   "outputs": [],
   "source": [
    "X = data1.drop('Violation Type',axis = 1).values\n",
    "y = data1['Violation Type'].values\n",
    "train_data,test_data,train_labels,test_labels = tts(X,y,test_size = 0.3, random_state = 42)"
   ]
  },
  {
   "cell_type": "code",
   "execution_count": 47,
   "metadata": {
    "collapsed": true
   },
   "outputs": [],
   "source": [
    "X = data2.drop('Gender',axis = 1).values\n",
    "y = data2['Gender'].values\n",
    "train_data,test_data,train_labels,test_labels = tts(X,y,test_size = 0.3, random_state = 42)"
   ]
  },
  {
   "cell_type": "code",
   "execution_count": 32,
   "metadata": {},
   "outputs": [
    {
     "data": {
      "text/plain": [
       "0.70260588607150387"
      ]
     },
     "execution_count": 32,
     "metadata": {},
     "output_type": "execute_result"
    }
   ],
   "source": [
    "n_estimators = [int(x) for x in np.linspace(start = 200, stop = 2000, num = 10)]\n",
    "# Number of features to consider at every split\n",
    "max_features = ['auto', 'sqrt']\n",
    "random_grid = {'n_estimators' : n_estimators,'max_features':max_features}\n",
    "rfc = RandomForestClassifier()\n",
    "rfc.fit(train_data,train_labels)\n",
    "rfc.score(test_data,test_labels)"
   ]
  },
  {
   "cell_type": "code",
   "execution_count": 33,
   "metadata": {
    "collapsed": true
   },
   "outputs": [],
   "source": [
    "X = data2.drop(['Violation Type'],axis = 1).values\n",
    "y = data2['Violation Type'].values\n",
    "train_data,test_data,train_labels,test_labels = tts(X,y,test_size = 0.3, random_state = 42)"
   ]
  },
  {
   "cell_type": "code",
   "execution_count": 34,
   "metadata": {},
   "outputs": [
    {
     "data": {
      "text/plain": [
       "0.5855998584803811"
      ]
     },
     "execution_count": 34,
     "metadata": {},
     "output_type": "execute_result"
    }
   ],
   "source": [
    "rfc = RandomForestClassifier()\n",
    "rfc.fit(train_data,train_labels)\n",
    "rfc.score(test_data,test_labels)"
   ]
  },
  {
   "cell_type": "code",
   "execution_count": 35,
   "metadata": {
    "collapsed": true
   },
   "outputs": [],
   "source": [
    "km = KMeans(n_clusters = 3)\n",
    "labels =km.fit_predict(data2.drop('Gender',axis = 1).values)\n",
    "df = pd.DataFrame({'labels': labels, 'Gender': data2['Gender']})"
   ]
  },
  {
   "cell_type": "code",
   "execution_count": 36,
   "metadata": {},
   "outputs": [
    {
     "data": {
      "text/plain": [
       "0    858401\n",
       "1    421501\n",
       "2      1425\n",
       "Name: Gender, dtype: int64"
      ]
     },
     "execution_count": 36,
     "metadata": {},
     "output_type": "execute_result"
    }
   ],
   "source": [
    "df['Gender'].value_counts()"
   ]
  },
  {
   "cell_type": "code",
   "execution_count": 37,
   "metadata": {},
   "outputs": [
    {
     "name": "stdout",
     "output_type": "stream",
     "text": [
      "Gender       0       1     2\n",
      "labels                      \n",
      "0       811132  403864  1321\n",
      "1        13315    5259    44\n",
      "2        33954   12378    60\n"
     ]
    }
   ],
   "source": [
    "ct = pd.crosstab(df['labels'],df['Gender'])\n",
    "print(ct)"
   ]
  },
  {
   "cell_type": "code",
   "execution_count": 56,
   "metadata": {
    "collapsed": true
   },
   "outputs": [],
   "source": [
    "X = data2.drop('Violation Type',axis = 1).values\n",
    "y = data2['Violation Type'].values\n",
    "train_data,test_data,train_labels,test_labels = tts(X,y,test_size = 0.3, random_state = 42)"
   ]
  },
  {
   "cell_type": "code",
   "execution_count": 57,
   "metadata": {},
   "outputs": [
    {
     "name": "stdout",
     "output_type": "stream",
     "text": [
      "(896928, 7)\n",
      "(384399, 7)\n",
      "(896928,)\n",
      "(384399,)\n"
     ]
    },
    {
     "name": "stderr",
     "output_type": "stream",
     "text": [
      "c:\\python35\\lib\\site-packages\\sklearn\\linear_model\\sag.py:286: ConvergenceWarning: The max_iter was reached which means the coef_ did not converge\n",
      "  \"the coef_ did not converge\", ConvergenceWarning)\n"
     ]
    },
    {
     "data": {
      "text/plain": [
       "0.4968457254051129"
      ]
     },
     "execution_count": 57,
     "metadata": {},
     "output_type": "execute_result"
    }
   ],
   "source": [
    "train_data,test_data,train_labels,test_labels = tts(X,y,test_size = 0.3, random_state = 42)\n",
    "print(train_data.shape)\n",
    "print(test_data.shape)\n",
    "print(train_labels.shape)\n",
    "print(test_labels.shape)\n",
    "lg.fit(train_data,train_labels)\n",
    "lg.score(test_data,test_labels)"
   ]
  },
  {
   "cell_type": "code",
   "execution_count": 16,
   "metadata": {},
   "outputs": [
    {
     "name": "stdout",
     "output_type": "stream",
     "text": [
      "Epoch 1/1\n",
      "896928/896928 [==============================] - 280s 313us/step - loss: 2.6115 - acc: 0.6614\n"
     ]
    },
    {
     "data": {
      "text/plain": [
       "<keras.callbacks.History at 0x1f6bb5a1550>"
      ]
     },
     "execution_count": 16,
     "metadata": {},
     "output_type": "execute_result"
    }
   ],
   "source": [
    "n_cols = train_data.shape[1]\n",
    "model = Sequential()\n",
    "model.add(Dense(1000,activation = 'relu',input_shape = (n_cols,)))\n",
    "model.add(Dense(1000,activation = 'relu'))\n",
    "model.add(Dense(3,activation = 'softmax'))\n",
    "model.compile(optimizer='sgd', loss='categorical_crossentropy', metrics=['accuracy'])\n",
    "model.fit(train_data, train_labels)"
   ]
  },
  {
   "cell_type": "code",
   "execution_count": 18,
   "metadata": {},
   "outputs": [
    {
     "name": "stderr",
     "output_type": "stream",
     "text": [
      "c:\\python35\\lib\\site-packages\\keras\\engine\\training.py:353: RuntimeWarning: invalid value encountered in floor_divide\n",
      "  num_batches = (size + batch_size - 1) // batch_size  # round up\n"
     ]
    },
    {
     "ename": "TypeError",
     "evalue": "only integer scalar arrays can be converted to a scalar index",
     "output_type": "error",
     "traceback": [
      "\u001b[1;31m---------------------------------------------------------------------------\u001b[0m",
      "\u001b[1;31mTypeError\u001b[0m                                 Traceback (most recent call last)",
      "\u001b[1;32m<ipython-input-18-577f7a49e723>\u001b[0m in \u001b[0;36m<module>\u001b[1;34m()\u001b[0m\n\u001b[1;32m----> 1\u001b[1;33m \u001b[0mmodel\u001b[0m\u001b[1;33m.\u001b[0m\u001b[0mpredict\u001b[0m\u001b[1;33m(\u001b[0m\u001b[0mtest_data\u001b[0m\u001b[1;33m,\u001b[0m\u001b[0mto_categorical\u001b[0m\u001b[1;33m(\u001b[0m\u001b[0mtest_labels\u001b[0m\u001b[1;33m)\u001b[0m\u001b[1;33m)\u001b[0m\u001b[1;33m\u001b[0m\u001b[0m\n\u001b[0m",
      "\u001b[1;32mc:\\python35\\lib\\site-packages\\keras\\models.py\u001b[0m in \u001b[0;36mpredict\u001b[1;34m(self, x, batch_size, verbose, steps)\u001b[0m\n\u001b[0;32m   1062\u001b[0m             \u001b[0mself\u001b[0m\u001b[1;33m.\u001b[0m\u001b[0mbuild\u001b[0m\u001b[1;33m(\u001b[0m\u001b[1;33m)\u001b[0m\u001b[1;33m\u001b[0m\u001b[0m\n\u001b[0;32m   1063\u001b[0m         return self.model.predict(x, batch_size=batch_size, verbose=verbose,\n\u001b[1;32m-> 1064\u001b[1;33m                                   steps=steps)\n\u001b[0m\u001b[0;32m   1065\u001b[0m \u001b[1;33m\u001b[0m\u001b[0m\n\u001b[0;32m   1066\u001b[0m     \u001b[1;32mdef\u001b[0m \u001b[0mpredict_on_batch\u001b[0m\u001b[1;33m(\u001b[0m\u001b[0mself\u001b[0m\u001b[1;33m,\u001b[0m \u001b[0mx\u001b[0m\u001b[1;33m)\u001b[0m\u001b[1;33m:\u001b[0m\u001b[1;33m\u001b[0m\u001b[0m\n",
      "\u001b[1;32mc:\\python35\\lib\\site-packages\\keras\\engine\\training.py\u001b[0m in \u001b[0;36mpredict\u001b[1;34m(self, x, batch_size, verbose, steps)\u001b[0m\n\u001b[0;32m   1833\u001b[0m         \u001b[0mf\u001b[0m \u001b[1;33m=\u001b[0m \u001b[0mself\u001b[0m\u001b[1;33m.\u001b[0m\u001b[0mpredict_function\u001b[0m\u001b[1;33m\u001b[0m\u001b[0m\n\u001b[0;32m   1834\u001b[0m         return self._predict_loop(f, ins, batch_size=batch_size,\n\u001b[1;32m-> 1835\u001b[1;33m                                   verbose=verbose, steps=steps)\n\u001b[0m\u001b[0;32m   1836\u001b[0m \u001b[1;33m\u001b[0m\u001b[0m\n\u001b[0;32m   1837\u001b[0m     def train_on_batch(self, x, y,\n",
      "\u001b[1;32mc:\\python35\\lib\\site-packages\\keras\\engine\\training.py\u001b[0m in \u001b[0;36m_predict_loop\u001b[1;34m(self, f, ins, batch_size, verbose, steps)\u001b[0m\n\u001b[0;32m   1317\u001b[0m             \u001b[1;31m# Sample-based predictions.\u001b[0m\u001b[1;33m\u001b[0m\u001b[1;33m\u001b[0m\u001b[0m\n\u001b[0;32m   1318\u001b[0m             \u001b[0mouts\u001b[0m \u001b[1;33m=\u001b[0m \u001b[1;33m[\u001b[0m\u001b[1;33m]\u001b[0m\u001b[1;33m\u001b[0m\u001b[0m\n\u001b[1;32m-> 1319\u001b[1;33m             \u001b[0mbatches\u001b[0m \u001b[1;33m=\u001b[0m \u001b[0m_make_batches\u001b[0m\u001b[1;33m(\u001b[0m\u001b[0mnum_samples\u001b[0m\u001b[1;33m,\u001b[0m \u001b[0mbatch_size\u001b[0m\u001b[1;33m)\u001b[0m\u001b[1;33m\u001b[0m\u001b[0m\n\u001b[0m\u001b[0;32m   1320\u001b[0m             \u001b[0mindex_array\u001b[0m \u001b[1;33m=\u001b[0m \u001b[0mnp\u001b[0m\u001b[1;33m.\u001b[0m\u001b[0marange\u001b[0m\u001b[1;33m(\u001b[0m\u001b[0mnum_samples\u001b[0m\u001b[1;33m)\u001b[0m\u001b[1;33m\u001b[0m\u001b[0m\n\u001b[0;32m   1321\u001b[0m             \u001b[1;32mfor\u001b[0m \u001b[0mbatch_index\u001b[0m\u001b[1;33m,\u001b[0m \u001b[1;33m(\u001b[0m\u001b[0mbatch_start\u001b[0m\u001b[1;33m,\u001b[0m \u001b[0mbatch_end\u001b[0m\u001b[1;33m)\u001b[0m \u001b[1;32min\u001b[0m \u001b[0menumerate\u001b[0m\u001b[1;33m(\u001b[0m\u001b[0mbatches\u001b[0m\u001b[1;33m)\u001b[0m\u001b[1;33m:\u001b[0m\u001b[1;33m\u001b[0m\u001b[0m\n",
      "\u001b[1;32mc:\\python35\\lib\\site-packages\\keras\\engine\\training.py\u001b[0m in \u001b[0;36m_make_batches\u001b[1;34m(size, batch_size)\u001b[0m\n\u001b[0;32m    353\u001b[0m     \u001b[0mnum_batches\u001b[0m \u001b[1;33m=\u001b[0m \u001b[1;33m(\u001b[0m\u001b[0msize\u001b[0m \u001b[1;33m+\u001b[0m \u001b[0mbatch_size\u001b[0m \u001b[1;33m-\u001b[0m \u001b[1;36m1\u001b[0m\u001b[1;33m)\u001b[0m \u001b[1;33m//\u001b[0m \u001b[0mbatch_size\u001b[0m  \u001b[1;31m# round up\u001b[0m\u001b[1;33m\u001b[0m\u001b[0m\n\u001b[0;32m    354\u001b[0m     return [(i * batch_size, min(size, (i + 1) * batch_size))\n\u001b[1;32m--> 355\u001b[1;33m             for i in range(num_batches)]\n\u001b[0m\u001b[0;32m    356\u001b[0m \u001b[1;33m\u001b[0m\u001b[0m\n\u001b[0;32m    357\u001b[0m \u001b[1;33m\u001b[0m\u001b[0m\n",
      "\u001b[1;31mTypeError\u001b[0m: only integer scalar arrays can be converted to a scalar index"
     ]
    }
   ],
   "source": []
  },
  {
   "cell_type": "code",
   "execution_count": null,
   "metadata": {
    "collapsed": true
   },
   "outputs": [],
   "source": []
  }
 ],
 "metadata": {
  "kernelspec": {
   "display_name": "Python 3",
   "language": "python",
   "name": "python3"
  },
  "language_info": {
   "codemirror_mode": {
    "name": "ipython",
    "version": 3
   },
   "file_extension": ".py",
   "mimetype": "text/x-python",
   "name": "python",
   "nbconvert_exporter": "python",
   "pygments_lexer": "ipython3",
   "version": "3.5.2"
  }
 },
 "nbformat": 4,
 "nbformat_minor": 2
}
